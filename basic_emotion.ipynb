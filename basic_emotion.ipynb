{
  "nbformat": 4,
  "nbformat_minor": 0,
  "metadata": {
    "colab": {
      "name": "basic_emotion.ipynb",
      "provenance": [],
      "mount_file_id": "13KMV65-6Lorl22puzh4xyfaAVqDZKQ2l",
      "authorship_tag": "ABX9TyMK0bhKMjtl76y5B8slcFpz",
      "include_colab_link": true
    },
    "kernelspec": {
      "name": "python3",
      "display_name": "Python 3"
    },
    "accelerator": "GPU"
  },
  "cells": [
    {
      "cell_type": "markdown",
      "metadata": {
        "id": "view-in-github",
        "colab_type": "text"
      },
      "source": [
        "<a href=\"https://colab.research.google.com/github/wujulie/emotion_predict/blob/main/basic_emotion.ipynb\" target=\"_parent\"><img src=\"https://colab.research.google.com/assets/colab-badge.svg\" alt=\"Open In Colab\"/></a>"
      ]
    },
    {
      "cell_type": "code",
      "metadata": {
        "colab": {
          "base_uri": "https://localhost:8080/",
          "height": 348
        },
        "id": "343q1OeZBH6k",
        "outputId": "a8869f4e-58ac-44bb-d454-56eb1c70fb33"
      },
      "source": [
        "import tensorflow as tf\r\n",
        "import keras\r\n",
        "from keras.models import Sequential\r\n",
        "from keras.layers import Conv2D, MaxPooling2D, AveragePooling2D\r\n",
        "from keras.layers import Dense, Activation, Dropout, Flatten\r\n",
        "\r\n",
        "from keras.preprocessing import image\r\n",
        "from keras.preprocessing.image import ImageDataGenerator\r\n",
        "import pandas as pd\r\n",
        "import numpy as np\r\n",
        "import matplotlib.pyplot as plt\r\n",
        "filname = '/content/drive/MyDrive/mememoji-master/mememoji-master/src/fer2013.csv'\r\n",
        "label_map = ['Anger', 'Disgust', 'Fear', 'Happy', 'Sad', 'Surprise', 'Neutral']\r\n",
        "names=['emotion','pixels','usage']\r\n",
        "df=pd.read_csv('/content/drive/MyDrive/mememoji-master/mememoji-master/src/fer2013.csv',names=names, na_filter=False)\r\n",
        "im=df['pixels']\r\n",
        "df.head(10)"
      ],
      "execution_count": 1,
      "outputs": [
        {
          "output_type": "execute_result",
          "data": {
            "text/html": [
              "<div>\n",
              "<style scoped>\n",
              "    .dataframe tbody tr th:only-of-type {\n",
              "        vertical-align: middle;\n",
              "    }\n",
              "\n",
              "    .dataframe tbody tr th {\n",
              "        vertical-align: top;\n",
              "    }\n",
              "\n",
              "    .dataframe thead th {\n",
              "        text-align: right;\n",
              "    }\n",
              "</style>\n",
              "<table border=\"1\" class=\"dataframe\">\n",
              "  <thead>\n",
              "    <tr style=\"text-align: right;\">\n",
              "      <th></th>\n",
              "      <th>emotion</th>\n",
              "      <th>pixels</th>\n",
              "      <th>usage</th>\n",
              "    </tr>\n",
              "  </thead>\n",
              "  <tbody>\n",
              "    <tr>\n",
              "      <th>0</th>\n",
              "      <td>emotion</td>\n",
              "      <td>pixels</td>\n",
              "      <td>Usage</td>\n",
              "    </tr>\n",
              "    <tr>\n",
              "      <th>1</th>\n",
              "      <td>0</td>\n",
              "      <td>70 80 82 72 58 58 60 63 54 58 60 48 89 115 121...</td>\n",
              "      <td>Training</td>\n",
              "    </tr>\n",
              "    <tr>\n",
              "      <th>2</th>\n",
              "      <td>0</td>\n",
              "      <td>151 150 147 155 148 133 111 140 170 174 182 15...</td>\n",
              "      <td>Training</td>\n",
              "    </tr>\n",
              "    <tr>\n",
              "      <th>3</th>\n",
              "      <td>2</td>\n",
              "      <td>231 212 156 164 174 138 161 173 182 200 106 38...</td>\n",
              "      <td>Training</td>\n",
              "    </tr>\n",
              "    <tr>\n",
              "      <th>4</th>\n",
              "      <td>4</td>\n",
              "      <td>24 32 36 30 32 23 19 20 30 41 21 22 32 34 21 1...</td>\n",
              "      <td>Training</td>\n",
              "    </tr>\n",
              "    <tr>\n",
              "      <th>5</th>\n",
              "      <td>6</td>\n",
              "      <td>4 0 0 0 0 0 0 0 0 0 0 0 3 15 23 28 48 50 58 84...</td>\n",
              "      <td>Training</td>\n",
              "    </tr>\n",
              "    <tr>\n",
              "      <th>6</th>\n",
              "      <td>2</td>\n",
              "      <td>55 55 55 55 55 54 60 68 54 85 151 163 170 179 ...</td>\n",
              "      <td>Training</td>\n",
              "    </tr>\n",
              "    <tr>\n",
              "      <th>7</th>\n",
              "      <td>4</td>\n",
              "      <td>20 17 19 21 25 38 42 42 46 54 56 62 63 66 82 1...</td>\n",
              "      <td>Training</td>\n",
              "    </tr>\n",
              "    <tr>\n",
              "      <th>8</th>\n",
              "      <td>3</td>\n",
              "      <td>77 78 79 79 78 75 60 55 47 48 58 73 77 79 57 5...</td>\n",
              "      <td>Training</td>\n",
              "    </tr>\n",
              "    <tr>\n",
              "      <th>9</th>\n",
              "      <td>3</td>\n",
              "      <td>85 84 90 121 101 102 133 153 153 169 177 189 1...</td>\n",
              "      <td>Training</td>\n",
              "    </tr>\n",
              "  </tbody>\n",
              "</table>\n",
              "</div>"
            ],
            "text/plain": [
              "   emotion                                             pixels     usage\n",
              "0  emotion                                             pixels     Usage\n",
              "1        0  70 80 82 72 58 58 60 63 54 58 60 48 89 115 121...  Training\n",
              "2        0  151 150 147 155 148 133 111 140 170 174 182 15...  Training\n",
              "3        2  231 212 156 164 174 138 161 173 182 200 106 38...  Training\n",
              "4        4  24 32 36 30 32 23 19 20 30 41 21 22 32 34 21 1...  Training\n",
              "5        6  4 0 0 0 0 0 0 0 0 0 0 0 3 15 23 28 48 50 58 84...  Training\n",
              "6        2  55 55 55 55 55 54 60 68 54 85 151 163 170 179 ...  Training\n",
              "7        4  20 17 19 21 25 38 42 42 46 54 56 62 63 66 82 1...  Training\n",
              "8        3  77 78 79 79 78 75 60 55 47 48 58 73 77 79 57 5...  Training\n",
              "9        3  85 84 90 121 101 102 133 153 153 169 177 189 1...  Training"
            ]
          },
          "metadata": {
            "tags": []
          },
          "execution_count": 1
        }
      ]
    },
    {
      "cell_type": "code",
      "metadata": {
        "id": "hIeVlenSKSWQ"
      },
      "source": [
        "def getData(filname):\r\n",
        "    # images are 48x48\r\n",
        "    # N = 35887\r\n",
        "    Y = []\r\n",
        "    X = []\r\n",
        "    first = True\r\n",
        "    for line in open(filname):\r\n",
        "        if first:\r\n",
        "            first = False\r\n",
        "        else:\r\n",
        "            row = line.split(',')\r\n",
        "            Y.append(int(row[0]))\r\n",
        "            X.append([int(p) for p in row[1].split()])\r\n",
        "\r\n",
        "    X, Y = np.array(X) / 255.0, np.array(Y)\r\n",
        "    return X, Y"
      ],
      "execution_count": 2,
      "outputs": []
    },
    {
      "cell_type": "code",
      "metadata": {
        "colab": {
          "base_uri": "https://localhost:8080/"
        },
        "id": "iry6rRtPJslr",
        "outputId": "977c58d9-f10e-4db6-b6c7-d75904e0ff56"
      },
      "source": [
        "X, Y = getData(filname)\r\n",
        "num_class = len(set(Y))\r\n",
        "print(num_class)"
      ],
      "execution_count": 3,
      "outputs": [
        {
          "output_type": "stream",
          "text": [
            "7\n"
          ],
          "name": "stdout"
        }
      ]
    },
    {
      "cell_type": "code",
      "metadata": {
        "id": "1EESotzkKlGy"
      },
      "source": [
        "# keras with tensorflow backend\r\n",
        "N, D = X.shape\r\n",
        "X = X.reshape(N, 48, 48, 1)"
      ],
      "execution_count": 4,
      "outputs": []
    },
    {
      "cell_type": "code",
      "metadata": {
        "id": "zenWL2PdKlpE"
      },
      "source": [
        "from sklearn.model_selection import train_test_split\r\n",
        "\r\n",
        "X_train, X_test, y_train, y_test = train_test_split(X, Y, test_size=0.1, random_state=0)\r\n",
        "y_train = (np.arange(num_class) == y_train[:, None]).astype(np.float32)#是NP.newaxis的別名。它創建一個長度為1的軸。這對於矩陣乘法等很有用。\r\n",
        "y_test = (np.arange(num_class) == y_test[:, None]).astype(np.float32)"
      ],
      "execution_count": 5,
      "outputs": []
    },
    {
      "cell_type": "code",
      "metadata": {
        "id": "-5DUEmWlKn_2"
      },
      "source": [
        "from keras.models import Sequential\r\n",
        "from keras.layers import Dense , Activation , Dropout ,Flatten\r\n",
        "from keras.layers.convolutional import Conv2D\r\n",
        "from keras.layers.convolutional import MaxPooling2D\r\n",
        "from keras.metrics import categorical_accuracy\r\n",
        "from keras.models import model_from_json\r\n",
        "from keras.callbacks import ModelCheckpoint\r\n",
        "from keras.optimizers import *\r\n",
        "from keras.layers.normalization import BatchNormalization\r\n",
        "from keras import backend as K"
      ],
      "execution_count": 6,
      "outputs": []
    },
    {
      "cell_type": "code",
      "metadata": {
        "colab": {
          "base_uri": "https://localhost:8080/"
        },
        "id": "k7d8LknAKpju",
        "outputId": "09f2cc94-4aae-4b36-e18a-abef337e049c"
      },
      "source": [
        "def my_model():\r\n",
        "    model = Sequential()\r\n",
        "    input_shape = (48,48,1)\r\n",
        "    model.add(Conv2D(64, (5, 5), input_shape=input_shape,activation='relu', padding='same'))\r\n",
        "    model.add(Conv2D(64, (5, 5), activation='relu', padding='same'))\r\n",
        "    model.add(BatchNormalization())\r\n",
        "    model.add(MaxPooling2D(pool_size=(2, 2)))\r\n",
        "\r\n",
        "    model.add(Conv2D(128, (5, 5),activation='relu',padding='same'))\r\n",
        "    model.add(Conv2D(128, (5, 5),activation='relu',padding='same'))\r\n",
        "    model.add(BatchNormalization())\r\n",
        "    model.add(MaxPooling2D(pool_size=(2, 2)))\r\n",
        "\r\n",
        "    model.add(Conv2D(256, (3, 3),activation='relu',padding='same'))\r\n",
        "    model.add(Conv2D(256, (3, 3),activation='relu',padding='same'))\r\n",
        "    model.add(BatchNormalization())\r\n",
        "    model.add(MaxPooling2D(pool_size=(2, 2)))\r\n",
        "\r\n",
        "    model.add(Flatten())\r\n",
        "    model.add(Dense(128))\r\n",
        "    model.add(BatchNormalization())\r\n",
        "    model.add(Activation('relu'))\r\n",
        "    model.add(Dropout(0.2))\r\n",
        "    model.add(Dense(7))\r\n",
        "    model.add(Activation('softmax'))\r\n",
        "    \r\n",
        "    model.compile(loss='categorical_crossentropy', metrics=['accuracy'],optimizer='adam')\r\n",
        "    # UNCOMMENT THIS TO VIEW THE ARCHITECTURE\r\n",
        "    #model.summary()\r\n",
        "    \r\n",
        "    return model\r\n",
        "model=my_model()\r\n",
        "model.summary()"
      ],
      "execution_count": 7,
      "outputs": [
        {
          "output_type": "stream",
          "text": [
            "Model: \"sequential\"\n",
            "_________________________________________________________________\n",
            "Layer (type)                 Output Shape              Param #   \n",
            "=================================================================\n",
            "conv2d (Conv2D)              (None, 48, 48, 64)        1664      \n",
            "_________________________________________________________________\n",
            "conv2d_1 (Conv2D)            (None, 48, 48, 64)        102464    \n",
            "_________________________________________________________________\n",
            "batch_normalization (BatchNo (None, 48, 48, 64)        256       \n",
            "_________________________________________________________________\n",
            "max_pooling2d (MaxPooling2D) (None, 24, 24, 64)        0         \n",
            "_________________________________________________________________\n",
            "conv2d_2 (Conv2D)            (None, 24, 24, 128)       204928    \n",
            "_________________________________________________________________\n",
            "conv2d_3 (Conv2D)            (None, 24, 24, 128)       409728    \n",
            "_________________________________________________________________\n",
            "batch_normalization_1 (Batch (None, 24, 24, 128)       512       \n",
            "_________________________________________________________________\n",
            "max_pooling2d_1 (MaxPooling2 (None, 12, 12, 128)       0         \n",
            "_________________________________________________________________\n",
            "conv2d_4 (Conv2D)            (None, 12, 12, 256)       295168    \n",
            "_________________________________________________________________\n",
            "conv2d_5 (Conv2D)            (None, 12, 12, 256)       590080    \n",
            "_________________________________________________________________\n",
            "batch_normalization_2 (Batch (None, 12, 12, 256)       1024      \n",
            "_________________________________________________________________\n",
            "max_pooling2d_2 (MaxPooling2 (None, 6, 6, 256)         0         \n",
            "_________________________________________________________________\n",
            "flatten (Flatten)            (None, 9216)              0         \n",
            "_________________________________________________________________\n",
            "dense (Dense)                (None, 128)               1179776   \n",
            "_________________________________________________________________\n",
            "batch_normalization_3 (Batch (None, 128)               512       \n",
            "_________________________________________________________________\n",
            "activation (Activation)      (None, 128)               0         \n",
            "_________________________________________________________________\n",
            "dropout (Dropout)            (None, 128)               0         \n",
            "_________________________________________________________________\n",
            "dense_1 (Dense)              (None, 7)                 903       \n",
            "_________________________________________________________________\n",
            "activation_1 (Activation)    (None, 7)                 0         \n",
            "=================================================================\n",
            "Total params: 2,787,015\n",
            "Trainable params: 2,785,863\n",
            "Non-trainable params: 1,152\n",
            "_________________________________________________________________\n"
          ],
          "name": "stdout"
        }
      ]
    },
    {
      "cell_type": "code",
      "metadata": {
        "colab": {
          "base_uri": "https://localhost:8080/"
        },
        "id": "IbmdPU5-KrgW",
        "outputId": "114274ba-07ab-4956-c08e-a112a91f7a25"
      },
      "source": [
        "path_model='model_filter.h5' # save model at this location after each epoch\r\n",
        "K.clear_session() # destroys the current graph and builds a new one\r\n",
        "model=my_model() # create the model\r\n",
        "K.set_value(model.optimizer.lr,1e-3) # set the learning rate\r\n",
        "# fit the model\r\n",
        "h=model.fit(x=X_train,     \r\n",
        "            y=y_train, \r\n",
        "            batch_size=64, \r\n",
        "            epochs=20, \r\n",
        "            verbose=1, \r\n",
        "            validation_data=(X_test,y_test),\r\n",
        "            shuffle=True,\r\n",
        "            callbacks=[\r\n",
        "                ModelCheckpoint(filepath=path_model),\r\n",
        "            ]\r\n",
        "            )"
      ],
      "execution_count": 8,
      "outputs": [
        {
          "output_type": "stream",
          "text": [
            "Epoch 1/20\n",
            "505/505 [==============================] - 47s 78ms/step - loss: 1.8032 - accuracy: 0.3064 - val_loss: 1.4674 - val_accuracy: 0.4330\n",
            "Epoch 2/20\n",
            "505/505 [==============================] - 38s 74ms/step - loss: 1.3183 - accuracy: 0.4964 - val_loss: 1.2406 - val_accuracy: 0.5222\n",
            "Epoch 3/20\n",
            "505/505 [==============================] - 38s 74ms/step - loss: 1.1155 - accuracy: 0.5789 - val_loss: 1.1012 - val_accuracy: 0.5795\n",
            "Epoch 4/20\n",
            "505/505 [==============================] - 37s 74ms/step - loss: 0.9766 - accuracy: 0.6369 - val_loss: 1.1776 - val_accuracy: 0.5623\n",
            "Epoch 5/20\n",
            "505/505 [==============================] - 37s 74ms/step - loss: 0.8259 - accuracy: 0.6990 - val_loss: 1.1157 - val_accuracy: 0.5887\n",
            "Epoch 6/20\n",
            "505/505 [==============================] - 37s 74ms/step - loss: 0.6929 - accuracy: 0.7510 - val_loss: 1.1046 - val_accuracy: 0.6239\n",
            "Epoch 7/20\n",
            "505/505 [==============================] - 37s 74ms/step - loss: 0.5309 - accuracy: 0.8142 - val_loss: 1.2052 - val_accuracy: 0.6088\n",
            "Epoch 8/20\n",
            "505/505 [==============================] - 37s 74ms/step - loss: 0.3748 - accuracy: 0.8749 - val_loss: 1.4977 - val_accuracy: 0.5952\n",
            "Epoch 9/20\n",
            "505/505 [==============================] - 37s 74ms/step - loss: 0.2679 - accuracy: 0.9121 - val_loss: 1.5001 - val_accuracy: 0.6046\n",
            "Epoch 10/20\n",
            "505/505 [==============================] - 37s 74ms/step - loss: 0.1913 - accuracy: 0.9381 - val_loss: 1.6256 - val_accuracy: 0.5940\n",
            "Epoch 11/20\n",
            "505/505 [==============================] - 37s 74ms/step - loss: 0.1483 - accuracy: 0.9533 - val_loss: 1.6243 - val_accuracy: 0.6194\n",
            "Epoch 12/20\n",
            "505/505 [==============================] - 37s 74ms/step - loss: 0.1197 - accuracy: 0.9624 - val_loss: 1.7749 - val_accuracy: 0.6105\n",
            "Epoch 13/20\n",
            "505/505 [==============================] - 37s 74ms/step - loss: 0.1183 - accuracy: 0.9602 - val_loss: 1.9156 - val_accuracy: 0.6074\n",
            "Epoch 14/20\n",
            "505/505 [==============================] - 37s 74ms/step - loss: 0.0872 - accuracy: 0.9726 - val_loss: 1.9687 - val_accuracy: 0.6043\n",
            "Epoch 15/20\n",
            "505/505 [==============================] - 37s 74ms/step - loss: 0.0939 - accuracy: 0.9703 - val_loss: 2.3038 - val_accuracy: 0.5706\n",
            "Epoch 16/20\n",
            "505/505 [==============================] - 37s 74ms/step - loss: 0.0783 - accuracy: 0.9760 - val_loss: 2.2664 - val_accuracy: 0.5921\n",
            "Epoch 17/20\n",
            "505/505 [==============================] - 37s 74ms/step - loss: 0.0834 - accuracy: 0.9732 - val_loss: 2.0536 - val_accuracy: 0.5988\n",
            "Epoch 18/20\n",
            "505/505 [==============================] - 37s 73ms/step - loss: 0.0824 - accuracy: 0.9730 - val_loss: 2.2866 - val_accuracy: 0.6169\n",
            "Epoch 19/20\n",
            "505/505 [==============================] - 37s 74ms/step - loss: 0.0764 - accuracy: 0.9748 - val_loss: 2.1534 - val_accuracy: 0.6046\n",
            "Epoch 20/20\n",
            "505/505 [==============================] - 37s 74ms/step - loss: 0.0672 - accuracy: 0.9776 - val_loss: 2.2672 - val_accuracy: 0.6166\n"
          ],
          "name": "stdout"
        }
      ]
    },
    {
      "cell_type": "code",
      "metadata": {
        "colab": {
          "base_uri": "https://localhost:8080/"
        },
        "id": "4fGhJwFyKvSG",
        "outputId": "ddfb0eef-9ae3-430e-e5b5-9ace97ace539"
      },
      "source": [
        "print(model.evaluate(X_test, y_test))\r\n",
        "objects = ('angry', 'disgust', 'fear', 'happy', 'sad', 'surprise', 'neutral')\r\n",
        "y_pos = np.arange(len(objects))\r\n",
        "print(y_pos)"
      ],
      "execution_count": 9,
      "outputs": [
        {
          "output_type": "stream",
          "text": [
            "113/113 [==============================] - 2s 16ms/step - loss: 2.2671 - accuracy: 0.6166\n",
            "[2.267136812210083, 0.6166062951087952]\n",
            "[0 1 2 3 4 5 6]\n"
          ],
          "name": "stdout"
        }
      ]
    },
    {
      "cell_type": "code",
      "metadata": {
        "id": "TtHtT4lGPm-v"
      },
      "source": [
        "def emotion_analysis(emotions):\r\n",
        "    objects = ['angry', 'disgust', 'fear', 'happy', 'sad', 'surprise', 'neutral']\r\n",
        "    y_pos = np.arange(len(objects))\r\n",
        "    plt.bar(y_pos, emotions, align='center', alpha=0.9)\r\n",
        "    plt.tick_params(axis='x', which='both', pad=10,width=4,length=10)\r\n",
        "    plt.xticks(y_pos, objects)\r\n",
        "    plt.ylabel('percentage')\r\n",
        "    plt.title('emotion')\r\n",
        "    \r\n",
        "plt.show()"
      ],
      "execution_count": 10,
      "outputs": []
    },
    {
      "cell_type": "code",
      "metadata": {
        "colab": {
          "base_uri": "https://localhost:8080/"
        },
        "id": "VBu016obPrVm",
        "outputId": "709c954e-5366-43d2-e5c7-fdd4b2c05f09"
      },
      "source": [
        "y_pred=model.predict(X_test)\r\n",
        "#print(y_pred)\r\n",
        "y_test.shape"
      ],
      "execution_count": 11,
      "outputs": [
        {
          "output_type": "execute_result",
          "data": {
            "text/plain": [
              "(3589, 7)"
            ]
          },
          "metadata": {
            "tags": []
          },
          "execution_count": 11
        }
      ]
    },
    {
      "cell_type": "code",
      "metadata": {
        "colab": {
          "base_uri": "https://localhost:8080/",
          "height": 603
        },
        "id": "6DjewMv9Pt0v",
        "outputId": "446f175b-5a0b-4c57-958a-95c485c4c9c0"
      },
      "source": [
        "from skimage import io\r\n",
        "img = image.load_img('/content/drive/MyDrive/mememoji-master/mememoji-master/src/01058.jpg', grayscale=True, target_size=(48, 48))\r\n",
        "show_img=image.load_img('/content/drive/MyDrive/mememoji-master/mememoji-master/src/01058.jpg', grayscale=False, target_size=(200, 200))\r\n",
        "x = image.img_to_array(img)\r\n",
        "x = np.expand_dims(x, axis = 0)\r\n",
        "\r\n",
        "x /= 255\r\n",
        "\r\n",
        "custom = model.predict(x)\r\n",
        "#print(custom[0])\r\n",
        "emotion_analysis(custom[0])\r\n",
        "\r\n",
        "x = np.array(x, 'float32')\r\n",
        "x = x.reshape([48, 48]);\r\n",
        "\r\n",
        "plt.gray()\r\n",
        "plt.imshow(show_img)\r\n",
        "plt.show()\r\n",
        "\r\n",
        "m=0.000000000000000000001\r\n",
        "a=custom[0]\r\n",
        "for i in range(0,len(a)):\r\n",
        "    if a[i]>m:\r\n",
        "        m=a[i]\r\n",
        "        ind=i\r\n",
        "    print(\"ind:\",ind)\r\n",
        "    print(\"m:\",m)\r\n",
        "        \r\n",
        "print('Expression Prediction:',objects[ind])"
      ],
      "execution_count": 12,
      "outputs": [
        {
          "output_type": "stream",
          "text": [
            "/usr/local/lib/python3.6/dist-packages/keras_preprocessing/image/utils.py:107: UserWarning: grayscale is deprecated. Please use color_mode = \"grayscale\"\n",
            "  warnings.warn('grayscale is deprecated. Please use '\n"
          ],
          "name": "stderr"
        },
        {
          "output_type": "display_data",
          "data": {
            "image/png": "[encoded data removed]",
            "text/plain": [
              "<Figure size 432x288 with 1 Axes>"
            ]
          },
          "metadata": {
            "tags": [],
            "needs_background": "light"
          }
        },
        {
          "output_type": "stream",
          "text": [
            "ind: 0\n",
            "m: 0.9958449\n",
            "ind: 0\n",
            "m: 0.9958449\n",
            "ind: 0\n",
            "m: 0.9958449\n",
            "ind: 0\n",
            "m: 0.9958449\n",
            "ind: 0\n",
            "m: 0.9958449\n",
            "ind: 0\n",
            "m: 0.9958449\n",
            "ind: 0\n",
            "m: 0.9958449\n",
            "Expression Prediction: angry\n"
          ],
          "name": "stdout"
        }
      ]
    },
    {
      "cell_type": "code",
      "metadata": {
        "colab": {
          "base_uri": "https://localhost:8080/"
        },
        "id": "1-FqoFxx1GFv",
        "outputId": "b8dc008c-6ba4-4cb1-ec73-cf84e3616120"
      },
      "source": [
        "custom"
      ],
      "execution_count": 15,
      "outputs": [
        {
          "output_type": "execute_result",
          "data": {
            "text/plain": [
              "array([[9.9584490e-01, 3.9385966e-08, 4.1518370e-03, 1.7906972e-08,\n",
              "        6.9812904e-07, 2.5011263e-06, 6.3926291e-09]], dtype=float32)"
            ]
          },
          "metadata": {
            "tags": []
          },
          "execution_count": 15
        }
      ]
    },
    {
      "cell_type": "code",
      "metadata": {
        "id": "b1TlRuKBPxBe"
      },
      "source": [
        ""
      ],
      "execution_count": 12,
      "outputs": []
    }
  ]
}